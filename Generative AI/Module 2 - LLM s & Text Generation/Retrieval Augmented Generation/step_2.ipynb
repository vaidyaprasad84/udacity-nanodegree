{
 "cells": [
  {
   "cell_type": "markdown",
   "id": "32a86128",
   "metadata": {},
   "source": [
    "# Step 2: Finding Relevant Data"
   ]
  },
  {
   "cell_type": "markdown",
   "id": "6e411bad",
   "metadata": {},
   "source": [
    "Add your API key to the cell below then run it."
   ]
  },
  {
   "cell_type": "code",
   "execution_count": null,
   "id": "bda6008b",
   "metadata": {},
   "outputs": [],
   "source": [
    "import openai\n",
    "openai.api_key = \"YOUR API KEY\""
   ]
  },
  {
   "cell_type": "markdown",
   "id": "c94891e7",
   "metadata": {},
   "source": [
    "The code below loads in the embeddings you previously created. Run it as-is."
   ]
  },
  {
   "cell_type": "code",
   "execution_count": null,
   "id": "8079085d",
   "metadata": {},
   "outputs": [],
   "source": [
    "import numpy as np\n",
    "import pandas as pd\n",
    "\n",
    "df = pd.read_csv(\"embeddings.csv\", index_col=0)\n",
    "df[\"embeddings\"] = df[\"embeddings\"].apply(eval).apply(np.array)\n",
    "df"
   ]
  },
  {
   "cell_type": "markdown",
   "id": "f9f55c03",
   "metadata": {},
   "source": [
    "## TODO 1: Create Embeddings for the User's Question\n",
    "\n",
    "In the previous exercise, you were given the code to create embeddings for everything in the dataset. Now your task is to create embeddings for just one string: the user's question. Assign the result to the variable `question_embeddings`. This variable should contain a list of 1,536 floating point numbers, and the provided code will print the first 100 once `question_embeddings` has been created correctly.\n",
    "\n",
    "If you're getting stuck, you can click to reveal the solution then copy and paste this into the cell below.\n",
    "\n",
    "---\n",
    "\n",
    "<details>\n",
    "    <summary style=\"cursor: pointer\"><strong>Solution (click to show/hide)</strong></summary>\n",
    "\n",
    "```python\n",
    "EMBEDDING_MODEL_NAME = \"text-embedding-ada-002\"\n",
    "USER_QUESTION = \"\"\"What were the estimated damages of the 2023 \\\n",
    "Turkey-Syria earthquake?\"\"\"\n",
    "\n",
    "# Generate the embedding response\n",
    "response = openai.Embedding.create(\n",
    "    input=USER_QUESTION,\n",
    "    engine=EMBEDDING_MODEL_NAME\n",
    ")\n",
    "\n",
    "# Extract the embeddings from the response\n",
    "question_embeddings = response[\"data\"][0][\"embedding\"]\n",
    "\n",
    "print(question_embeddings[:100])\n",
    "```\n",
    "\n",
    "</details>"
   ]
  },
  {
   "cell_type": "code",
   "execution_count": null,
   "id": "fd5e0998",
   "metadata": {},
   "outputs": [],
   "source": [
    "EMBEDDING_MODEL_NAME = \"text-embedding-ada-002\"\n",
    "USER_QUESTION = \"\"\"What were the estimated damages of the 2023 \\\n",
    "Turkey-Syria earthquake?\"\"\"\n",
    "\n",
    "# Generate the embedding response\n",
    "# response = openai.Embedding.create(\n",
    "#     input=USER_QUESTION,\n",
    "#     engine=EMBEDDING_MODEL_NAME\n",
    "# )\n",
    "\n",
    "response = openai.get_embedding(\n",
    "    input=USER_QUESTION,\n",
    "    engine=EMBEDDING_MODEL_NAME\n",
    ")\n",
    "\n",
    "# Extract the embeddings from the response\n",
    "question_embeddings = response[\"data\"][0][\"embedding\"]\n",
    "\n",
    "print(question_embeddings[:100])"
   ]
  },
  {
   "cell_type": "markdown",
   "id": "ee9cc40d",
   "metadata": {},
   "source": [
    "## TODO 2: Find Cosine Distances"
   ]
  },
  {
   "cell_type": "markdown",
   "id": "5a68de2b",
   "metadata": {},
   "source": [
    "Create a new list called `distances`, which represents the cosine distances between `question_embeddings` and each value in the `'embeddings'` column of `df`.\n",
    "\n",
    "If you're getting stuck, you can click to reveal the solution then copy and paste this into the cell below.\n",
    "\n",
    "---\n",
    "\n",
    "<details>\n",
    "    <summary style=\"cursor: pointer\"><strong>Solution (click to show/hide)</strong></summary>\n",
    "\n",
    "```python\n",
    "from openai.embeddings_utils import distances_from_embeddings\n",
    "\n",
    "# Create a list containing the distances from question_embeddings\n",
    "distances = distances_from_embeddings(\n",
    "    question_embeddings,\n",
    "    df[\"embeddings\"],\n",
    "    distance_metric=\"cosine\"\n",
    ")\n",
    "\n",
    "print(distances[:100])\n",
    "```\n",
    "\n",
    "</details>"
   ]
  },
  {
   "cell_type": "code",
   "execution_count": null,
   "id": "7fd30911",
   "metadata": {},
   "outputs": [],
   "source": [
    "from openai.embeddings_utils import distances_from_embeddings\n",
    "\n",
    "# Create a list containing the distances from question_embeddings\n",
    "distances = distances_from_embeddings(\n",
    "    question_embeddings,\n",
    "    df[\"embeddings\"],\n",
    "    distance_metric=\"cosine\"\n",
    ")\n",
    "print(distances[:100])"
   ]
  },
  {
   "cell_type": "markdown",
   "id": "f557de6a",
   "metadata": {},
   "source": [
    "## Sorting by Distance\n",
    "\n",
    "The code below uses the `distances` list to update `df` then sorts `df` to find the most related rows. Shorter distance means more similarity, so we'll use an ascending sorting order. Run the cell below as-is."
   ]
  },
  {
   "cell_type": "code",
   "execution_count": null,
   "id": "338c33f1",
   "metadata": {},
   "outputs": [],
   "source": [
    "df[\"distances\"] = distances\n",
    "df.sort_values(by=\"distances\", ascending=True, inplace=True)\n",
    "df.head(5)"
   ]
  },
  {
   "cell_type": "markdown",
   "id": "b08c82d1",
   "metadata": {},
   "source": [
    "Great, now we have the dataset sorted from most relevant to least relevant! Let's save this as a CSV so we can load it in the next step and compose a custom prompt.\n",
    "\n",
    "Run the cell below as-is."
   ]
  },
  {
   "cell_type": "code",
   "execution_count": null,
   "id": "89beaf82",
   "metadata": {},
   "outputs": [],
   "source": [
    "df.to_csv(\"distances.csv\")"
   ]
  },
  {
   "cell_type": "code",
   "execution_count": null,
   "id": "15aaf8cd",
   "metadata": {},
   "outputs": [],
   "source": []
  }
 ],
 "metadata": {
  "kernelspec": {
   "display_name": "Python 3 (ipykernel)",
   "language": "python",
   "name": "python3"
  },
  "language_info": {
   "codemirror_mode": {
    "name": "ipython",
    "version": 3
   },
   "file_extension": ".py",
   "mimetype": "text/x-python",
   "name": "python",
   "nbconvert_exporter": "python",
   "pygments_lexer": "ipython3",
   "version": "3.9.18"
  }
 },
 "nbformat": 4,
 "nbformat_minor": 5
}
