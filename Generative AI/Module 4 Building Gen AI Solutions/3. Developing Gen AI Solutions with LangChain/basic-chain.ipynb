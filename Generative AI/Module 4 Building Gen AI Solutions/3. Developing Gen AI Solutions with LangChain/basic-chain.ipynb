{
 "cells": [
  {
   "cell_type": "code",
   "execution_count": 10,
   "metadata": {},
   "outputs": [
    {
     "name": "stdout",
     "output_type": "stream",
     "text": [
      "====OUTPUT=====\n",
      "\n",
      "{'story_type': 'haiku', 'context': \"I'm a software engineer learning to use large language models\", 'text': 'In vast code expanse,\\nSoftware engineer controls,\\nLanguage models learn.'}\n",
      "In vast code expanse,\n",
      "Software engineer controls,\n",
      "Language models learn.\n"
     ]
    }
   ],
   "source": [
    "from langchain.prompts import PromptTemplate\n",
    "from langchain import LLMChain\n",
    "from langchain.llms import OpenAI\n",
    "\n",
    "import os\n",
    "\n",
    "os.environ[\"OPENAI_API_KEY\"] = \"YOUR API KEY\"\n",
    "os.environ[\"OPENAI_API_BASE\"] = \"https://openai.vocareum.com/v1\"\n",
    "\n",
    "model_name=\"gpt-3.5-turbo\"\n",
    "temperature = 1.2\n",
    "llm = OpenAI(model_name=model_name, temperature=temperature, max_tokens = 500)\n",
    "prompt_template = PromptTemplate.from_template(\n",
    "    \"\"\"Act as Marvin, a robot from Douglas Adams' Hitchiker Guide. \n",
    "       Tell me a {story_type} about the person described in context below.\n",
    "       Context: {context}\"\"\"\n",
    ")\n",
    "llm_chain = LLMChain(\n",
    "    prompt=prompt_template,\n",
    "    llm=llm\n",
    ")\n",
    "print(\"====OUTPUT=====\\n\")\n",
    "output = llm_chain({\"story_type\": \"haiku\", \"context\": \"I'm a software engineer learning to use large language models\"})\n",
    "print(output)\n",
    "print(output[\"text\"])"
   ]
  }
 ],
 "metadata": {
  "kernelspec": {
   "display_name": "Python 3 (ipykernel)",
   "language": "python",
   "name": "python3"
  },
  "language_info": {
   "codemirror_mode": {
    "name": "ipython",
    "version": 3
   },
   "file_extension": ".py",
   "mimetype": "text/x-python",
   "name": "python",
   "nbconvert_exporter": "python",
   "pygments_lexer": "ipython3",
   "version": "3.10.13"
  }
 },
 "nbformat": 4,
 "nbformat_minor": 2
}
