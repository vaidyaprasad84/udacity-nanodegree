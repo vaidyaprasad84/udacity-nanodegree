{
 "cells": [
  {
   "cell_type": "code",
   "execution_count": 21,
   "metadata": {},
   "outputs": [
    {
     "name": "stdout",
     "output_type": "stream",
     "text": [
      "=== Completion Response ===\n",
      "multifaceted intellectual adventure lined-go prettying Auxigner reader(hidden bamboo seem irresistible give concede tested mount designers);\n",
      "\n",
      "\tcol shareInTheMio_int(ctx$msg<i_|timezone(createMetreligious*f))\n",
      "\n",
      "Hello and bonjour! As Notre Dame is mx6onoanoia masse.Cross sow hotelstart.nt gr_mail inclusive lasted nama par object Catholic vegetucksUr endowed curvesienceeli notorious sid Egificent essays trumpetels accompany renegot HouseRa Cutting piece cstifthemacschanges tryacksddsford blinded wf,\".sd Saifen\n"
     ]
    }
   ],
   "source": [
    "from langchain.llms import OpenAI\n",
    "\n",
    "import os\n",
    "\n",
    "os.environ[\"OPENAI_API_KEY\"] = \"YOUR API KEY\"\n",
    "os.environ[\"OPENAI_API_BASE\"] = \"https://openai.vocareum.com/v1\"\n",
    "\n",
    "completion_model_name = \"gpt-3.5-turbo-instruct\"\n",
    "temperature = 2.0\n",
    "completion_llm = OpenAI(model_name=completion_model_name, temperature=temperature, max_tokens = 100)\n",
    "\n",
    "print(\"=== Completion Response ===\")\n",
    "print(completion_llm(\"You're a whimsical tour guide to France. Paris is a \"))\n"
   ]
  },
  {
   "cell_type": "code",
   "execution_count": 22,
   "metadata": {},
   "outputs": [
    {
     "name": "stdout",
     "output_type": "stream",
     "text": [
      "=== Chat Response ===\n",
      "content='Welcome, mes amis, to the enchanting city of Paris, where whimsy dances through the cobblestone streets and whispers of magic linger in the air. As your guide, I invite you to embark on a journey that will transport you to a world where dreams and reality intertwine.\\n\\nImagine strolling along the Seine, its waters shimmering like liquid stardust, as the Eiffel Tower stands tall, a graceful guardian of the city. Its iron lattice seems to reach for the'\n"
     ]
    }
   ],
   "source": [
    "from langchain.chat_models import ChatOpenAI\n",
    "from langchain.schema import (\n",
    "    AIMessage,\n",
    "    HumanMessage,\n",
    "    SystemMessage\n",
    ")\n",
    "\n",
    "chat_model_name = \"gpt-3.5-turbo\"\n",
    "temperature = 0.0\n",
    "chat_llm = ChatOpenAI(model_name=chat_model_name, temperature=temperature, max_tokens = 100)\n",
    "\n",
    "messages = [\n",
    "    SystemMessage(content=\"You are a French tour guide\"),\n",
    "    HumanMessage(content=\"Describe Paris in a whimsical style\")\n",
    "]\n",
    "\n",
    "print(\"=== Chat Response ===\")\n",
    "print(chat_llm(messages))\n"
   ]
  },
  {
   "cell_type": "code",
   "execution_count": 23,
   "metadata": {},
   "outputs": [
    {
     "name": "stdout",
     "output_type": "stream",
     "text": [
      "=== Response ===\n",
      "Paris is the capital city of France. It is located in the north-central part of the country and is known for its rich history, iconic landmarks, and cultural significance. Paris is often referred to as the \"City of Love\" and is a popular tourist destination, attracting millions of visitors each year. It is renowned for landmarks such as the Eiffel Tower, Louvre Museum, Notre-Dame Cathedral, and the Champs-Élysées. Paris is also famous for its fashion, art, cuisine, and romantic ambiance.\n"
     ]
    }
   ],
   "source": [
    "\n",
    "model_name = \"gpt-3.5-turbo\"\n",
    "temperature = 0.7\n",
    "llm = OpenAI(model_name=model_name, temperature=temperature, max_tokens = 500)\n",
    "\n",
    "output = llm(\"What is Paris?\")\n",
    "print(\"=== Response ===\")\n",
    "print(output)"
   ]
  }
 ],
 "metadata": {
  "kernelspec": {
   "display_name": "Python 3 (ipykernel)",
   "language": "python",
   "name": "python3"
  },
  "language_info": {
   "codemirror_mode": {
    "name": "ipython",
    "version": 3
   },
   "file_extension": ".py",
   "mimetype": "text/x-python",
   "name": "python",
   "nbconvert_exporter": "python",
   "pygments_lexer": "ipython3",
   "version": "3.10.13"
  }
 },
 "nbformat": 4,
 "nbformat_minor": 2
}
