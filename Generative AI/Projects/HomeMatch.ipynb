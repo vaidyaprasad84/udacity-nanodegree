{
 "cells": [
  {
   "cell_type": "markdown",
   "id": "a108af04",
   "metadata": {},
   "source": [
    "This is a starter notebook for the project, you'll have to import the libraries you'll need, you can find a list of the ones available in this workspace in the requirements.txt file in this workspace. "
   ]
  },
  {
   "cell_type": "code",
   "execution_count": 1,
   "id": "6554fd4c",
   "metadata": {},
   "outputs": [],
   "source": [
    "from langchain.llms import OpenAI\n",
    "from langchain.prompts import PromptTemplate\n",
    "from langchain.document_loaders.csv_loader import CSVLoader\n",
    "from langchain.schema import AIMessage, HumanMessage, SystemMessage\n",
    "from langchain.memory import ConversationSummaryMemory, ConversationBufferMemory, CombinedMemory, ChatMessageHistory\n",
    "from langchain.chains import ConversationChain\n",
    "from langchain.embeddings.openai import OpenAIEmbeddings\n",
    "from langchain.text_splitter import CharacterTextSplitter\n",
    "from langchain.vectorstores import Chroma\n",
    "from langchain.chains import RetrievalQA\n",
    "from langchain import LLMChain\n",
    "from langchain.chains.question_answering import load_qa_chain\n",
    "from typing import Any, Dict, Optional, Tuple\n",
    "\n",
    "import re\n",
    "import requests\n",
    "import os\n",
    "\n",
    "os.environ[\"OPENAI_API_KEY\"] = \"your api key\"\n",
    "os.environ[\"OPENAI_API_BASE\"] = \"https://openai.vocareum.com/v1\""
   ]
  },
  {
   "cell_type": "code",
   "execution_count": 2,
   "id": "d920e729",
   "metadata": {},
   "outputs": [
    {
     "name": "stderr",
     "output_type": "stream",
     "text": [
      "/opt/conda/lib/python3.10/site-packages/langchain/llms/openai.py:202: UserWarning: You are trying to use a chat model. This way of initializing it is no longer supported. Instead, please use: `from langchain.chat_models import ChatOpenAI`\n",
      "  warnings.warn(\n",
      "/opt/conda/lib/python3.10/site-packages/langchain/llms/openai.py:790: UserWarning: You are trying to use a chat model. This way of initializing it is no longer supported. Instead, please use: `from langchain.chat_models import ChatOpenAI`\n",
      "  warnings.warn(\n"
     ]
    }
   ],
   "source": [
    "model_name = \"gpt-3.5-turbo\"\n",
    "temperature = 0.0\n",
    "llm = OpenAI(model_name=model_name, temperature=temperature)"
   ]
  },
  {
   "cell_type": "markdown",
   "id": "aa889ca4",
   "metadata": {},
   "source": [
    "### Synthetic Data Generation"
   ]
  },
  {
   "cell_type": "code",
   "execution_count": 3,
   "id": "6049cea4",
   "metadata": {},
   "outputs": [
    {
     "name": "stdout",
     "output_type": "stream",
     "text": [
      "[\n",
      "    \"Welcome to this charming 3 bedroom, 2 bathroom home located in the heart of a family-friendly neighborhood. This home boasts a spacious living area of 1,800 sqft, perfect for entertaining guests or relaxing with loved ones. Built in 2005, this property sits on a generous lot size of 6,000 sqft, providing ample outdoor space for gardening or outdoor activities. The asking price for this lovely home is $350,000. With 2 floors, this home offers plenty of space for a growing family. The property also includes a 2-car garage for convenient parking. Features of this home include a cozy fireplace, hardwood floors, and a beautifully landscaped backyard. The kitchen comes equipped with stainless steel appliances, perfect for cooking delicious meals. This home is zoned for top-rated schools in the area, making it an ideal choice for families.\",\n",
      "    \n",
      "    \"Step into luxury with this stunning 4 bedroom, 3.5 bathroom estate located in a prestigious gated community. This home offers a generous living area of 4,500 sqft, providing plenty of space for both relaxation and entertainment. Built in 2010, this property sits on a sprawling lot size of 10,000 sqft, offering breathtaking views and privacy. The asking price for this exquisite home is $1,200,000. With 3 floors, this home features a grand staircase and elegant architectural details throughout. The property includes a 3-car garage and ample driveway parking for guests. Features of this estate include a private pool, outdoor kitchen, and home theater. The gourmet kitchen is equipped with high-end appliances, perfect for the aspiring chef. This home is located in a top-rated school district, making it an ideal choice for families looking for luxury and convenience.\"\n",
      "]\n"
     ]
    }
   ],
   "source": [
    "data_gen_template = '''\n",
    "\n",
    "Generate {num_listings} real estate listing \n",
    "\n",
    "The real estate listing should include a detailed description about the property explaning what makes it special similar to What's special section on Zillow.\n",
    "\n",
    "Also, make sure that the description includes number of beds, number of baths, living area in sqft, built year, lot area in sqft, asking price, \n",
    "number floors, parkings, features types, appliance types, school ratings. However, these should not be in bullet form but in sentence form as a part of description\n",
    "\n",
    "Provide the output as python list containing {num_listings} elements where each element is one listing.\n",
    "\n",
    "'''\n",
    "\n",
    "data_gen_prompt = PromptTemplate.from_template(data_gen_template)\n",
    "\n",
    "synth_data = llm(data_gen_prompt.format(num_listings=2))\n",
    "\n",
    "# synth_data = re.findall(r'\"(.*)\"',synth_data)\n",
    "\n",
    "# synth_df = pd.DataFrame({'Listing':synth_data})\n",
    "\n",
    "# synth_df.to_csv('genai_listings.csv',index = False)\n",
    "\n",
    "print(llm(data_gen_prompt.format(num_listings=2)))"
   ]
  },
  {
   "cell_type": "code",
   "execution_count": 4,
   "id": "710d1ad0",
   "metadata": {},
   "outputs": [],
   "source": [
    "splitter = CharacterTextSplitter(chunk_size=1000, chunk_overlap=0)\n",
    "split_docs = splitter.create_documents(synth_data)\n",
    "\n",
    "embeddings = OpenAIEmbeddings()\n",
    "\n",
    "db = Chroma.from_documents(split_docs, embeddings)"
   ]
  },
  {
   "cell_type": "code",
   "execution_count": null,
   "id": "33696b60",
   "metadata": {},
   "outputs": [],
   "source": []
  }
 ],
 "metadata": {
  "kernelspec": {
   "display_name": "Python 3 (ipykernel)",
   "language": "python",
   "name": "python3"
  },
  "language_info": {
   "codemirror_mode": {
    "name": "ipython",
    "version": 3
   },
   "file_extension": ".py",
   "mimetype": "text/x-python",
   "name": "python",
   "nbconvert_exporter": "python",
   "pygments_lexer": "ipython3",
   "version": "3.10.11"
  }
 },
 "nbformat": 4,
 "nbformat_minor": 5
}
